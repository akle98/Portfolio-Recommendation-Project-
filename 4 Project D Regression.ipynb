{
 "cells": [
  {
   "cell_type": "markdown",
   "metadata": {
    "hideCode": false,
    "hidePrompt": false
   },
   "source": [
    "# Project Part D: Regression\n",
    "\n",
    "![](banner_project.jpg)"
   ]
  },
  {
   "cell_type": "code",
   "execution_count": 1,
   "metadata": {},
   "outputs": [],
   "source": [
    "analyst = \"Khoa Nguyen\" # Replace this with your name"
   ]
  },
  {
   "cell_type": "code",
   "execution_count": 2,
   "metadata": {
    "hide_input": false
   },
   "outputs": [],
   "source": [
    "f = \"setup.R\"; for (i in 1:10) { if (file.exists(f)) break else f = paste0(\"../\", f) }; source(f)\n",
    "options(repr.matrix.max.rows=674)                               "
   ]
  },
  {
   "cell_type": "markdown",
   "metadata": {},
   "source": [
    "## Introduction"
   ]
  },
  {
   "cell_type": "markdown",
   "metadata": {},
   "source": [
    "### Objective\n",
    "\n",
    "Build, evaluate, and tune a regressor trained on a transformed dataset about public company fundamentals.  Later, use the regressor along with additional analysis to recommend a portfolio of 12 company investments that maximizes 12-month return of an overall \\$1,000,000 investment."
   ]
  },
  {
   "cell_type": "markdown",
   "metadata": {},
   "source": [
    "### Approach\n",
    "\n",
    "Retrieve a dataset ready for predictive model construction.\n",
    "\n",
    "Build a model to predict how much stock price will grow over 12 months, given 12 months of past company fundamentals data, using a machine learning model construction method.\n",
    "\n",
    "Evaluate and tune the model for optimal business performance."
   ]
  },
  {
   "cell_type": "markdown",
   "metadata": {},
   "source": [
    "## Business Model & Business Parameters\n",
    "\n",
    "The business model is ...\n",
    "\n",
    "<p style=\"text-indent: 15px;\">\n",
    "$\\begin{align}\n",
    "& \\textsf{profit} = \\left( \\sum_{i \\in \\textsf{portfolio}} (1 + \\textsf{growth}_i) \\times \\textsf{allocation}_i \\right) - \\textsf{budget} \\\\ \\\\\n",
    "& \\textsf{profit rate} = \\textsf{profit} \\div \\textsf{budget} \\\\ \\\\\n",
    "& \\textsf{budget} = \\sum_{i \\in \\textsf{portfolio}} \\textsf{allocation}_i \\\\ \\\\\n",
    "\\end{align}$\n",
    "\n",
    "\n",
    "Business parameters include ...\n",
    "\n",
    "* $\\textsf{budget}$ is total investment to allocate across the companies in the portfolio<br>\n",
    "* $\\textsf{portfolio size}$ is number of companies in the portfolio<br>\n",
    "* $\\textsf{allocation}$ is vector of amounts to allocate to specific companies in the portfolio, must sum to budget\n",
    "* $\\textsf{threshold}$ is growth that qualifies as lowest attractive growth"
   ]
  },
  {
   "cell_type": "code",
   "execution_count": 3,
   "metadata": {},
   "outputs": [
    {
     "data": {
      "text/html": [
       "<table class=\"kable_wrapper\">\n",
       "<tbody>\n",
       "  <tr>\n",
       "   <td style=\"background-color:white; vertical-align:top; padding-right:40px;\"> \n",
       "\n",
       "<table style=\"white-space: nowrap;\">\n",
       "\n",
       " <thead>\n",
       "  <tr>\n",
       "   <th style=\"text-align:right;background-color: #FFFFFF !important;\"> budget </th>\n",
       "  </tr>\n",
       " </thead>\n",
       "<tbody>\n",
       "  <tr>\n",
       "   <td style=\"text-align:right;\"> 1,000,000 </td>\n",
       "  </tr>\n",
       "</tbody>\n",
       "</table>\n",
       "\n",
       " </td>\n",
       "   <td style=\"background-color:white; vertical-align:top; padding-right:40px;\"> \n",
       "\n",
       "<table style=\"white-space: nowrap;\">\n",
       "\n",
       " <thead>\n",
       "  <tr>\n",
       "   <th style=\"text-align:right;background-color: #FFFFFF !important;\"> portfolio_size </th>\n",
       "  </tr>\n",
       " </thead>\n",
       "<tbody>\n",
       "  <tr>\n",
       "   <td style=\"text-align:right;\"> 12 </td>\n",
       "  </tr>\n",
       "</tbody>\n",
       "</table>\n",
       "\n",
       " </td>\n",
       "   <td style=\"background-color:white; vertical-align:top; padding-right:40px;\"> \n",
       "\n",
       "<table style=\"white-space: nowrap;\">\n",
       "\n",
       " <thead>\n",
       "  <tr>\n",
       "   <th style=\"text-align:right;background-color: #FFFFFF !important;\"> allocation </th>\n",
       "  </tr>\n",
       " </thead>\n",
       "<tbody>\n",
       "  <tr>\n",
       "   <td style=\"text-align:right;\"> 83,333 </td>\n",
       "  </tr>\n",
       "  <tr>\n",
       "   <td style=\"text-align:right;\"> 83,333 </td>\n",
       "  </tr>\n",
       "  <tr>\n",
       "   <td style=\"text-align:right;\"> 83,333 </td>\n",
       "  </tr>\n",
       "  <tr>\n",
       "   <td style=\"text-align:right;\"> 83,333 </td>\n",
       "  </tr>\n",
       "  <tr>\n",
       "   <td style=\"text-align:right;\"> 83,333 </td>\n",
       "  </tr>\n",
       "  <tr>\n",
       "   <td style=\"text-align:right;\"> 83,333 </td>\n",
       "  </tr>\n",
       "  <tr>\n",
       "   <td style=\"text-align:right;\"> 83,333 </td>\n",
       "  </tr>\n",
       "  <tr>\n",
       "   <td style=\"text-align:right;\"> 83,333 </td>\n",
       "  </tr>\n",
       "  <tr>\n",
       "   <td style=\"text-align:right;\"> 83,333 </td>\n",
       "  </tr>\n",
       "  <tr>\n",
       "   <td style=\"text-align:right;\"> 83,333 </td>\n",
       "  </tr>\n",
       "  <tr>\n",
       "   <td style=\"text-align:right;\"> 83,333 </td>\n",
       "  </tr>\n",
       "  <tr>\n",
       "   <td style=\"text-align:right;\"> 83,333 </td>\n",
       "  </tr>\n",
       "</tbody>\n",
       "</table>\n",
       "\n",
       " </td>\n",
       "  </tr>\n",
       "</tbody>\n",
       "</table>"
      ],
      "text/latex": [
       "\\vspace{3pt}\n",
       "\\begin{center}\n",
       "\n",
       "\\sffamily\\footnotesize\n",
       "\\begin{tabular}[t]{r}\n",
       "\n",
       "\\cellcolor{white}{\\textbf{budget}}\\\\\n",
       "\\hline\n",
       "\\cellcolor{gray!6}{1,000,000}\\\\\n",
       "\n",
       "\\end{tabular}\n",
       "\\hspace{20pt}\n",
       "\\begin{tabular}[t]{r}\n",
       "\n",
       "\\cellcolor{white}{\\textbf{portfolio\\_size}}\\\\\n",
       "\\hline\n",
       "\\cellcolor{gray!6}{12}\\\\\n",
       "\n",
       "\\end{tabular}\n",
       "\\hspace{20pt}\n",
       "\\begin{tabular}[t]{r}\n",
       "\n",
       "\\cellcolor{white}{\\textbf{allocation}}\\\\\n",
       "\\hline\n",
       "\\cellcolor{gray!6}{83,333}\\\\\n",
       "\\cellcolor{gray!6}{83,333}\\\\\n",
       "\\cellcolor{gray!6}{83,333}\\\\\n",
       "\\cellcolor{gray!6}{83,333}\\\\\n",
       "\\cellcolor{gray!6}{83,333}\\\\\n",
       "\\cellcolor{gray!6}{83,333}\\\\\n",
       "83,333\\\\\n",
       "83,333\\\\\n",
       "83,333\\\\\n",
       "83,333\\\\\n",
       "83,333\\\\\n",
       "83,333\\\\\n",
       "\n",
       "\\end{tabular}\n",
       "\n",
       "\\end{center}\n",
       "\\vspace{12pt}"
      ]
     },
     "metadata": {},
     "output_type": "display_data"
    }
   ],
   "source": [
    "# Set the business parameters.\n",
    "\n",
    "budget = 1000000\n",
    "portfolio_size = 12\n",
    "allocation = rep(budget/portfolio_size, portfolio_size)\n",
    "\n",
    "fmtsx(fmt(budget), fmt(portfolio_size), fmt(allocation))"
   ]
  },
  {
   "cell_type": "markdown",
   "metadata": {},
   "source": [
    "Portfolio to be filled with companies predicted to have the highest growths."
   ]
  },
  {
   "cell_type": "markdown",
   "metadata": {},
   "source": [
    "## Data"
   ]
  },
  {
   "cell_type": "code",
   "execution_count": 5,
   "metadata": {},
   "outputs": [
    {
     "data": {
      "text/html": [
       "<table style=\"white-space: nowrap;\">\n",
       "<caption><center><b><font color=\"black\">size(data)</font></b></center></caption>\n",
       " <thead>\n",
       "  <tr>\n",
       "   <th style=\"text-align:right;background-color: #FFFFFF !important;\"> observations </th>\n",
       "   <th style=\"text-align:right;background-color: #FFFFFF !important;\"> variables </th>\n",
       "  </tr>\n",
       " </thead>\n",
       "<tbody>\n",
       "  <tr>\n",
       "   <td style=\"text-align:right;\"> 4,305 </td>\n",
       "   <td style=\"text-align:right;\"> 9 </td>\n",
       "  </tr>\n",
       "</tbody>\n",
       "</table>"
      ],
      "text/latex": [
       "\\vspace{3pt}\n",
       "\\begin{center}\n",
       "\\sffamily\\footnotesize\n",
       "\\begin{tabular}[t]{rr}\n",
       "\\multicolumn{2}{c}{\\textbf{size(data)}} \\\\\n",
       "\\cellcolor{white}{\\textbf{observations}} & \\cellcolor{white}{\\textbf{variables}}\\\\\n",
       "\\hline\n",
       "\\cellcolor{gray!6}{4,305} & \\cellcolor{gray!6}{9}\\\\\n",
       "\n",
       "\\end{tabular}\n",
       "\\end{center}\n",
       "\\vspace{12pt}"
      ]
     },
     "metadata": {},
     "output_type": "display_data"
    },
    {
     "data": {
      "text/html": [
       "<table style=\"white-space: nowrap;\">\n",
       "<caption><center><b><font color=\"black\">data (first few observations)</font></b></center></caption>\n",
       " <thead>\n",
       "  <tr>\n",
       "   <th style=\"text-align:right;background-color: #FFFFFF !important;\"> big_growth </th>\n",
       "   <th style=\"text-align:right;background-color: #FFFFFF !important;\"> growth </th>\n",
       "   <th style=\"text-align:right;background-color: #FFFFFF !important;\"> prccq </th>\n",
       "   <th style=\"text-align:right;background-color: #FFFFFF !important;\"> gvkey </th>\n",
       "   <th style=\"text-align:right;background-color: #FFFFFF !important;\"> tic </th>\n",
       "   <th style=\"text-align:right;background-color: #FFFFFF !important;\"> conm </th>\n",
       "   <th style=\"text-align:right;background-color: #FFFFFF !important;\"> PC1 </th>\n",
       "   <th style=\"text-align:right;background-color: #FFFFFF !important;\"> PC2 </th>\n",
       "   <th style=\"text-align:right;background-color: #FFFFFF !important;\"> PC3 </th>\n",
       "  </tr>\n",
       " </thead>\n",
       "<tbody>\n",
       "  <tr>\n",
       "   <td style=\"text-align:right;\"> NO </td>\n",
       "   <td style=\"text-align:right;\"> 0.0507 </td>\n",
       "   <td style=\"text-align:right;\"> 43.69 </td>\n",
       "   <td style=\"text-align:right;\"> 1,004 </td>\n",
       "   <td style=\"text-align:right;\"> AIR </td>\n",
       "   <td style=\"text-align:right;\"> AAR CORP </td>\n",
       "   <td style=\"text-align:right;\"> 1.4098 </td>\n",
       "   <td style=\"text-align:right;\"> 0.2125 </td>\n",
       "   <td style=\"text-align:right;\"> -0.1874 </td>\n",
       "  </tr>\n",
       "  <tr>\n",
       "   <td style=\"text-align:right;\"> NO </td>\n",
       "   <td style=\"text-align:right;\"> -0.3829 </td>\n",
       "   <td style=\"text-align:right;\"> 32.11 </td>\n",
       "   <td style=\"text-align:right;\"> 1,045 </td>\n",
       "   <td style=\"text-align:right;\"> AAL </td>\n",
       "   <td style=\"text-align:right;\"> AMERICAN AIRLINES GROUP INC </td>\n",
       "   <td style=\"text-align:right;\"> -2.8093 </td>\n",
       "   <td style=\"text-align:right;\"> 0.2246 </td>\n",
       "   <td style=\"text-align:right;\"> 1.4366 </td>\n",
       "  </tr>\n",
       "  <tr>\n",
       "   <td style=\"text-align:right;\"> YES </td>\n",
       "   <td style=\"text-align:right;\"> 0.3158 </td>\n",
       "   <td style=\"text-align:right;\"> 6.75 </td>\n",
       "   <td style=\"text-align:right;\"> 1,050 </td>\n",
       "   <td style=\"text-align:right;\"> CECE </td>\n",
       "   <td style=\"text-align:right;\"> CECO ENVIRONMENTAL CORP </td>\n",
       "   <td style=\"text-align:right;\"> 1.5247 </td>\n",
       "   <td style=\"text-align:right;\"> 0.4396 </td>\n",
       "   <td style=\"text-align:right;\"> -0.1679 </td>\n",
       "  </tr>\n",
       "  <tr>\n",
       "   <td style=\"text-align:right;\"> NO </td>\n",
       "   <td style=\"text-align:right;\"> -0.2165 </td>\n",
       "   <td style=\"text-align:right;\"> 8.66 </td>\n",
       "   <td style=\"text-align:right;\"> 1,062 </td>\n",
       "   <td style=\"text-align:right;\"> ASA </td>\n",
       "   <td style=\"text-align:right;\"> ASA GOLD AND PRECIOUS METALS </td>\n",
       "   <td style=\"text-align:right;\"> 1.5737 </td>\n",
       "   <td style=\"text-align:right;\"> 0.6384 </td>\n",
       "   <td style=\"text-align:right;\"> 0.0123 </td>\n",
       "  </tr>\n",
       "  <tr>\n",
       "   <td style=\"text-align:right;\"> NO </td>\n",
       "   <td style=\"text-align:right;\"> -0.1185 </td>\n",
       "   <td style=\"text-align:right;\"> 15.25 </td>\n",
       "   <td style=\"text-align:right;\"> 1,072 </td>\n",
       "   <td style=\"text-align:right;\"> AVX </td>\n",
       "   <td style=\"text-align:right;\"> AVX CORP </td>\n",
       "   <td style=\"text-align:right;\"> 1.2813 </td>\n",
       "   <td style=\"text-align:right;\"> 0.4529 </td>\n",
       "   <td style=\"text-align:right;\"> 0.0929 </td>\n",
       "  </tr>\n",
       "  <tr>\n",
       "   <td style=\"text-align:right;\"> NO </td>\n",
       "   <td style=\"text-align:right;\"> 0.0002 </td>\n",
       "   <td style=\"text-align:right;\"> 85.20 </td>\n",
       "   <td style=\"text-align:right;\"> 1,075 </td>\n",
       "   <td style=\"text-align:right;\"> PNW </td>\n",
       "   <td style=\"text-align:right;\"> PINNACLE WEST CAPITAL CORP </td>\n",
       "   <td style=\"text-align:right;\"> 0.3698 </td>\n",
       "   <td style=\"text-align:right;\"> -0.4861 </td>\n",
       "   <td style=\"text-align:right;\"> -0.0128 </td>\n",
       "  </tr>\n",
       "</tbody>\n",
       "</table>"
      ],
      "text/latex": [
       "\\vspace{3pt}\n",
       "\\begin{center}\n",
       "\\sffamily\\footnotesize\n",
       "\\begin{tabular}[t]{rrrrrrrrr}\n",
       "\\multicolumn{9}{c}{\\textbf{data (first few observations)}} \\\\\n",
       "\\cellcolor{white}{\\textbf{big\\_growth}} & \\cellcolor{white}{\\textbf{growth}} & \\cellcolor{white}{\\textbf{prccq}} & \\cellcolor{white}{\\textbf{gvkey}} & \\cellcolor{white}{\\textbf{tic}} & \\cellcolor{white}{\\textbf{conm}} & \\cellcolor{white}{\\textbf{PC1}} & \\cellcolor{white}{\\textbf{PC2}} & \\cellcolor{white}{\\textbf{PC3}}\\\\\n",
       "\\hline\n",
       "\\cellcolor{gray!6}{NO} & \\cellcolor{gray!6}{0.0507} & \\cellcolor{gray!6}{43.69} & \\cellcolor{gray!6}{1,004} & \\cellcolor{gray!6}{AIR} & \\cellcolor{gray!6}{AAR CORP} & \\cellcolor{gray!6}{1.4098} & \\cellcolor{gray!6}{0.2125} & \\cellcolor{gray!6}{-0.1874}\\\\\n",
       "NO & -0.3829 & 32.11 & 1,045 & AAL & AMERICAN AIRLINES GROUP INC & -2.8093 & 0.2246 & 1.4366\\\\\n",
       "\\cellcolor{gray!6}{YES} & \\cellcolor{gray!6}{0.3158} & \\cellcolor{gray!6}{6.75} & \\cellcolor{gray!6}{1,050} & \\cellcolor{gray!6}{CECE} & \\cellcolor{gray!6}{CECO ENVIRONMENTAL CORP} & \\cellcolor{gray!6}{1.5247} & \\cellcolor{gray!6}{0.4396} & \\cellcolor{gray!6}{-0.1679}\\\\\n",
       "NO & -0.2165 & 8.66 & 1,062 & ASA & ASA GOLD AND PRECIOUS METALS & 1.5737 & 0.6384 & 0.0123\\\\\n",
       "\\cellcolor{gray!6}{NO} & \\cellcolor{gray!6}{-0.1185} & \\cellcolor{gray!6}{15.25} & \\cellcolor{gray!6}{1,072} & \\cellcolor{gray!6}{AVX} & \\cellcolor{gray!6}{AVX CORP} & \\cellcolor{gray!6}{1.2813} & \\cellcolor{gray!6}{0.4529} & \\cellcolor{gray!6}{0.0929}\\\\\n",
       "NO & 0.0002 & 85.20 & 1,075 & PNW & PINNACLE WEST CAPITAL CORP & 0.3698 & -0.4861 & -0.0128\\\\\n",
       "\n",
       "\\end{tabular}\n",
       "\\end{center}\n",
       "\\vspace{12pt}"
      ]
     },
     "metadata": {},
     "output_type": "display_data"
    }
   ],
   "source": [
    "# Retrieve data.\n",
    "# How many observations and variables?\n",
    "# Present the first few observations.\n",
    "\n",
    "data = read.csv(\"My Data.csv\", header=TRUE, na.strings=c(\"NA\", \"\"), stringsAsFactors=FALSE)\n",
    "data$big_growth = factor(data$big_growth, levels=c(\"YES\",\"NO\"))\n",
    "\n",
    "fmtx(size(data))\n",
    "fmtx(data[1:6,], FFO)"
   ]
  },
  {
   "cell_type": "markdown",
   "metadata": {},
   "source": [
    "## Build Regression Model"
   ]
  },
  {
   "cell_type": "code",
   "execution_count": 6,
   "metadata": {
    "scrolled": true
   },
   "outputs": [
    {
     "data": {
      "text/plain": [
       "\n",
       "Call:\n",
       "lm(formula = growth ~ PC1 + PC2 + PC3, data = data)\n",
       "\n",
       "Coefficients:\n",
       "(Intercept)          PC1          PC2          PC3  \n",
       "   -0.11859      0.00109     -0.00169     -0.00179  \n"
      ]
     },
     "metadata": {},
     "output_type": "display_data"
    }
   ],
   "source": [
    "# Construct a linear regression model to predict growth given PC1, PC2, and PC3.\n",
    "# Present a brief summary of the model parameters.\n",
    "model = lm(growth ~ PC1 + PC2 + PC3, data)\n",
    "model"
   ]
  },
  {
   "cell_type": "markdown",
   "metadata": {},
   "source": [
    "## Evaluate Regression Model (5-fold cross-validation)"
   ]
  },
  {
   "cell_type": "code",
   "execution_count": 7,
   "metadata": {},
   "outputs": [
    {
     "name": "stdout",
     "output_type": "stream",
     "text": [
      "List of 5\n",
      " $ Fold1: int [1:862] 8 11 16 22 30 32 38 40 41 44 ...\n",
      " $ Fold2: int [1:860] 3 9 10 23 26 27 34 39 52 64 ...\n",
      " $ Fold3: int [1:862] 2 7 19 29 35 42 53 57 61 62 ...\n",
      " $ Fold4: int [1:861] 1 4 5 6 15 17 28 33 36 43 ...\n",
      " $ Fold5: int [1:860] 12 13 14 18 20 21 24 25 31 37 ...\n"
     ]
    }
   ],
   "source": [
    "# Partition the data into 5 folds (use set.seed(0) and createFolds(...) based on growth).\n",
    "# Present the first few observation numbers for each fold.\n",
    "#\n",
    "# You can use str(...)\n",
    "set.seed(0)\n",
    "fold = createFolds(data$growth, k=5)\n",
    "str(fold)"
   ]
  },
  {
   "cell_type": "code",
   "execution_count": 17,
   "metadata": {},
   "outputs": [
    {
     "data": {
      "text/html": [
       "<table style=\"white-space: nowrap;\">\n",
       "<caption><center><b><font color=\"black\">Fold Performance</font></b></center></caption>\n",
       " <thead>\n",
       "  <tr>\n",
       "   <th style=\"text-align:right;background-color: #FFFFFF !important;\"> fold </th>\n",
       "   <th style=\"text-align:right;background-color: #FFFFFF !important;\"> rmse </th>\n",
       "   <th style=\"text-align:right;background-color: #FFFFFF !important;\"> profit </th>\n",
       "  </tr>\n",
       " </thead>\n",
       "<tbody>\n",
       "  <tr>\n",
       "   <td style=\"text-align:right;\"> 1 </td>\n",
       "   <td style=\"text-align:right;\"> 0.4445 </td>\n",
       "   <td style=\"text-align:right;\"> -112,168 </td>\n",
       "  </tr>\n",
       "  <tr>\n",
       "   <td style=\"text-align:right;\"> 2 </td>\n",
       "   <td style=\"text-align:right;\"> 0.4359 </td>\n",
       "   <td style=\"text-align:right;\"> -159,110 </td>\n",
       "  </tr>\n",
       "  <tr>\n",
       "   <td style=\"text-align:right;\"> 3 </td>\n",
       "   <td style=\"text-align:right;\"> 0.5040 </td>\n",
       "   <td style=\"text-align:right;\"> -68,571 </td>\n",
       "  </tr>\n",
       "  <tr>\n",
       "   <td style=\"text-align:right;\"> 4 </td>\n",
       "   <td style=\"text-align:right;\"> 0.3991 </td>\n",
       "   <td style=\"text-align:right;\"> -81,949 </td>\n",
       "  </tr>\n",
       "  <tr>\n",
       "   <td style=\"text-align:right;\"> 5 </td>\n",
       "   <td style=\"text-align:right;\"> 0.5459 </td>\n",
       "   <td style=\"text-align:right;\"> -14,433 </td>\n",
       "  </tr>\n",
       "</tbody>\n",
       "</table>"
      ],
      "text/latex": [
       "\\vspace{3pt}\n",
       "\\begin{center}\n",
       "\\sffamily\\footnotesize\n",
       "\\begin{tabular}[t]{rrr}\n",
       "\\multicolumn{3}{c}{\\textbf{Fold Performance}} \\\\\n",
       "\\cellcolor{white}{\\textbf{fold}} & \\cellcolor{white}{\\textbf{rmse}} & \\cellcolor{white}{\\textbf{profit}}\\\\\n",
       "\\hline\n",
       "\\cellcolor{gray!6}{1} & \\cellcolor{gray!6}{0.4445} & \\cellcolor{gray!6}{-112,168}\\\\\n",
       "2 & 0.4359 & -159,110\\\\\n",
       "\\cellcolor{gray!6}{3} & \\cellcolor{gray!6}{0.5040} & \\cellcolor{gray!6}{-68,571}\\\\\n",
       "4 & 0.3991 & -81,949\\\\\n",
       "\\cellcolor{gray!6}{5} & \\cellcolor{gray!6}{0.5459} & \\cellcolor{gray!6}{-14,433}\\\\\n",
       "\n",
       "\\end{tabular}\n",
       "\\end{center}\n",
       "\\vspace{12pt}"
      ]
     },
     "metadata": {},
     "output_type": "display_data"
    }
   ],
   "source": [
    "# Present the model's estimated RMSE and profit for each fold.\n",
    "# Note that profit is calculated based on actual growth of the 12 companies with predicted highest growth. b\n",
    "fold_performance = data.frame()\n",
    "\n",
    "for (i in 1:5)\n",
    "  { data.test  = data[fold[[i]],]\n",
    "    data.train = data[setdiff(1:nrow(data), fold[[i]]),]\n",
    "    model_train = lm(growth ~ PC1 + PC2 + PC3, data.train) \n",
    "    growth.predicted = predict(model_train, data.test)\n",
    "    error = data.test$growth - growth.predicted\n",
    "    rmse = sqrt(mean(error^2))\n",
    "    \n",
    "    data.test = cbind(data.test,growth.predicted)\n",
    "    data.test = data.test[order(-data.test$growth.predicted),]\n",
    "    company.data.growth = data.test[1:12, \"growth\"]\n",
    "    profit = sum((1 + company.data.growth)*allocation) - budget \n",
    "   fold_performance = rbind(fold_performance,data.frame(fold=i,rmse=rmse,profit = profit))}\n",
    "\n",
    "fmtx(fold_performance,\"Fold Performance\")\n"
   ]
  },
  {
   "cell_type": "code",
   "execution_count": 19,
   "metadata": {},
   "outputs": [
    {
     "data": {
      "text/html": [
       "<table style=\"white-space: nowrap;\">\n",
       "<caption><center><b><font color=\"black\">5-Fold Cross-Validation Estimated Performance</font></b></center></caption>\n",
       " <thead>\n",
       "  <tr>\n",
       "   <th style=\"text-align:right;background-color: #FFFFFF !important;\"> rmse.cv </th>\n",
       "   <th style=\"text-align:right;background-color: #FFFFFF !important;\"> profit.cv </th>\n",
       "   <th style=\"text-align:right;background-color: #FFFFFF !important;\"> profit_rate.cv </th>\n",
       "  </tr>\n",
       " </thead>\n",
       "<tbody>\n",
       "  <tr>\n",
       "   <td style=\"text-align:right;\"> 0.4659 </td>\n",
       "   <td style=\"text-align:right;\"> -87,246 </td>\n",
       "   <td style=\"text-align:right;\"> -0.0872 </td>\n",
       "  </tr>\n",
       "</tbody>\n",
       "</table>"
      ],
      "text/latex": [
       "\\vspace{3pt}\n",
       "\\begin{center}\n",
       "\\sffamily\\footnotesize\n",
       "\\begin{tabular}[t]{rrr}\n",
       "\\multicolumn{3}{c}{\\textbf{5-Fold Cross-Validation Estimated Performance}} \\\\\n",
       "\\cellcolor{white}{\\textbf{rmse.cv}} & \\cellcolor{white}{\\textbf{profit.cv}} & \\cellcolor{white}{\\textbf{profit\\_rate.cv}}\\\\\n",
       "\\hline\n",
       "\\cellcolor{gray!6}{0.4659} & \\cellcolor{gray!6}{-87,246} & \\cellcolor{gray!6}{-0.0872}\\\\\n",
       "\n",
       "\\end{tabular}\n",
       "\\end{center}\n",
       "\\vspace{12pt}"
      ]
     },
     "metadata": {},
     "output_type": "display_data"
    }
   ],
   "source": [
    "# Present the model's 5-fold cross-validation estimated RMSE, profit, and profit rate.\n",
    "rmse.cv = mean(fold_performance$rmse)\n",
    "profit.cv = mean(fold_performance$profit)\n",
    "profit_rate.cv = profit.cv/budget\n",
    "fmtx(data.frame(rmse.cv, profit.cv, profit_rate.cv), \"5-Fold Cross-Validation Estimated Performance\")"
   ]
  },
  {
   "cell_type": "markdown",
   "metadata": {},
   "source": [
    "## Tune Regression Model"
   ]
  },
  {
   "cell_type": "code",
   "execution_count": 27,
   "metadata": {},
   "outputs": [
    {
     "data": {
      "text/html": [
       "<table style=\"white-space: nowrap;\">\n",
       "<caption><center><b><font color=\"black\">best model</font></b></center></caption>\n",
       " <thead>\n",
       "  <tr>\n",
       "   <th style=\"text-align:right;background-color: #FFFFFF !important;\"> method </th>\n",
       "   <th style=\"text-align:right;background-color: #FFFFFF !important;\"> variables </th>\n",
       "   <th style=\"text-align:right;background-color: #FFFFFF !important;\"> rmse.cv </th>\n",
       "   <th style=\"text-align:right;background-color: #FFFFFF !important;\"> profit.cv </th>\n",
       "   <th style=\"text-align:right;background-color: #FFFFFF !important;\"> profit_rate.cv </th>\n",
       "  </tr>\n",
       " </thead>\n",
       "<tbody>\n",
       "  <tr>\n",
       "   <td style=\"text-align:right;\"> linear regression </td>\n",
       "   <td style=\"text-align:right;\"> PC1, PC2, growth </td>\n",
       "   <td style=\"text-align:right;\"> 0.4659 </td>\n",
       "   <td style=\"text-align:right;\"> -51,470 </td>\n",
       "   <td style=\"text-align:right;\"> -0.0515 </td>\n",
       "  </tr>\n",
       "</tbody>\n",
       "</table>"
      ],
      "text/latex": [
       "\\vspace{3pt}\n",
       "\\begin{center}\n",
       "\\sffamily\\footnotesize\n",
       "\\begin{tabular}[t]{rrrrr}\n",
       "\\multicolumn{5}{c}{\\textbf{best model}} \\\\\n",
       "\\cellcolor{white}{\\textbf{method}} & \\cellcolor{white}{\\textbf{variables}} & \\cellcolor{white}{\\textbf{rmse.cv}} & \\cellcolor{white}{\\textbf{profit.cv}} & \\cellcolor{white}{\\textbf{profit\\_rate.cv}}\\\\\n",
       "\\hline\n",
       "\\cellcolor{gray!6}{linear regression} & \\cellcolor{gray!6}{PC1, PC2, growth} & \\cellcolor{gray!6}{0.4659} & \\cellcolor{gray!6}{-51,470} & \\cellcolor{gray!6}{-0.0515}\\\\\n",
       "\n",
       "\\end{tabular}\n",
       "\\end{center}\n",
       "\\vspace{12pt}"
      ]
     },
     "metadata": {},
     "output_type": "display_data"
    },
    {
     "data": {
      "text/html": [
       "<table style=\"white-space: nowrap;\">\n",
       "<caption><center><b><font color=\"black\">search for best model</font></b></center></caption>\n",
       " <thead>\n",
       "  <tr>\n",
       "   <th style=\"text-align:right;background-color: #FFFFFF !important;\"> method </th>\n",
       "   <th style=\"text-align:right;background-color: #FFFFFF !important;\"> variables </th>\n",
       "   <th style=\"text-align:right;background-color: #FFFFFF !important;\"> rmse.cv </th>\n",
       "   <th style=\"text-align:right;background-color: #FFFFFF !important;\"> profit.cv </th>\n",
       "   <th style=\"text-align:right;background-color: #FFFFFF !important;\"> profit_rate.cv </th>\n",
       "  </tr>\n",
       " </thead>\n",
       "<tbody>\n",
       "  <tr>\n",
       "   <td style=\"text-align:right;\"> linear regression </td>\n",
       "   <td style=\"text-align:right;\"> PC1, growth </td>\n",
       "   <td style=\"text-align:right;\"> 0.4659 </td>\n",
       "   <td style=\"text-align:right;\"> -288,146 </td>\n",
       "   <td style=\"text-align:right;\"> -0.2881 </td>\n",
       "  </tr>\n",
       "  <tr>\n",
       "   <td style=\"text-align:right;\"> linear regression </td>\n",
       "   <td style=\"text-align:right;\"> PC2, growth </td>\n",
       "   <td style=\"text-align:right;\"> 0.4659 </td>\n",
       "   <td style=\"text-align:right;\"> -70,483 </td>\n",
       "   <td style=\"text-align:right;\"> -0.0705 </td>\n",
       "  </tr>\n",
       "  <tr>\n",
       "   <td style=\"text-align:right;\"> linear regression </td>\n",
       "   <td style=\"text-align:right;\"> PC3, growth </td>\n",
       "   <td style=\"text-align:right;\"> 0.4660 </td>\n",
       "   <td style=\"text-align:right;\"> -111,428 </td>\n",
       "   <td style=\"text-align:right;\"> -0.1114 </td>\n",
       "  </tr>\n",
       "  <tr>\n",
       "   <td style=\"text-align:right;\"> linear regression </td>\n",
       "   <td style=\"text-align:right;\"> PC1, PC2, growth </td>\n",
       "   <td style=\"text-align:right;\"> 0.4659 </td>\n",
       "   <td style=\"text-align:right;\"> -51,470 </td>\n",
       "   <td style=\"text-align:right;\"> -0.0515 </td>\n",
       "  </tr>\n",
       "  <tr>\n",
       "   <td style=\"text-align:right;\"> linear regression </td>\n",
       "   <td style=\"text-align:right;\"> PC1, PC3, growth </td>\n",
       "   <td style=\"text-align:right;\"> 0.4659 </td>\n",
       "   <td style=\"text-align:right;\"> -75,214 </td>\n",
       "   <td style=\"text-align:right;\"> -0.0752 </td>\n",
       "  </tr>\n",
       "  <tr>\n",
       "   <td style=\"text-align:right;\"> linear regression </td>\n",
       "   <td style=\"text-align:right;\"> PC2, PC3, growth </td>\n",
       "   <td style=\"text-align:right;\"> 0.4659 </td>\n",
       "   <td style=\"text-align:right;\"> -93,628 </td>\n",
       "   <td style=\"text-align:right;\"> -0.0936 </td>\n",
       "  </tr>\n",
       "  <tr>\n",
       "   <td style=\"text-align:right;\"> linear regression </td>\n",
       "   <td style=\"text-align:right;\"> PC1, PC2, PC3, growth </td>\n",
       "   <td style=\"text-align:right;\"> 0.4659 </td>\n",
       "   <td style=\"text-align:right;\"> -87,246 </td>\n",
       "   <td style=\"text-align:right;\"> -0.0872 </td>\n",
       "  </tr>\n",
       "</tbody>\n",
       "</table>"
      ],
      "text/latex": [
       "\\vspace{3pt}\n",
       "\\begin{center}\n",
       "\\sffamily\\footnotesize\n",
       "\\begin{tabular}[t]{rrrrr}\n",
       "\\multicolumn{5}{c}{\\textbf{search for best model}} \\\\\n",
       "\\cellcolor{white}{\\textbf{method}} & \\cellcolor{white}{\\textbf{variables}} & \\cellcolor{white}{\\textbf{rmse.cv}} & \\cellcolor{white}{\\textbf{profit.cv}} & \\cellcolor{white}{\\textbf{profit\\_rate.cv}}\\\\\n",
       "\\hline\n",
       "\\cellcolor{gray!6}{linear regression} & \\cellcolor{gray!6}{PC1, growth} & \\cellcolor{gray!6}{0.4659} & \\cellcolor{gray!6}{-288,146} & \\cellcolor{gray!6}{-0.2881}\\\\\n",
       "linear regression & PC2, growth & 0.4659 & -70,483 & -0.0705\\\\\n",
       "\\cellcolor{gray!6}{linear regression} & \\cellcolor{gray!6}{PC3, growth} & \\cellcolor{gray!6}{0.4660} & \\cellcolor{gray!6}{-111,428} & \\cellcolor{gray!6}{-0.1114}\\\\\n",
       "linear regression & PC1, PC2, growth & 0.4659 & -51,470 & -0.0515\\\\\n",
       "\\cellcolor{gray!6}{linear regression} & \\cellcolor{gray!6}{PC1, PC3, growth} & \\cellcolor{gray!6}{0.4659} & \\cellcolor{gray!6}{-75,214} & \\cellcolor{gray!6}{-0.0752}\\\\\n",
       "linear regression & PC2, PC3, growth & 0.4659 & -93,628 & -0.0936\\\\\n",
       "\\cellcolor{gray!6}{linear regression} & \\cellcolor{gray!6}{PC1, PC2, PC3, growth} & \\cellcolor{gray!6}{0.4659} & \\cellcolor{gray!6}{-87,246} & \\cellcolor{gray!6}{-0.0872}\\\\\n",
       "\n",
       "\\end{tabular}\n",
       "\\end{center}\n",
       "\\vspace{12pt}"
      ]
     },
     "metadata": {},
     "output_type": "display_data"
    }
   ],
   "source": [
    "# Partition the data into 5 folds (use set.seed(0) and createFolds(...) based on growth).\n",
    "\n",
    "# Build several linear regression models to predict growth.\n",
    "# Iterate through unique combinations of predictor variables, chosen from PC1, PC2, PC3.\n",
    "\n",
    "# Estimate each model's RMSE and profit, using 5-fold cross validation.\n",
    "\n",
    "# Present the best model: chosen variables, RMSE, profit, and profit rate.\n",
    "# Present all the models: chosen variables, RMSE, profit, and profit rate.\n",
    "\n",
    "tune = data.frame()\n",
    "for (f in exhaustive(names(data[,c(\"PC1\",\"PC2\",\"PC3\")]), keep=\"growth\")) # try every combination of variables\n",
    "{ \n",
    "    nfold = 5\n",
    "    set.seed(0)\n",
    "    fold = createFolds(data$growth, k=nfold)\n",
    "    rmse = c()\n",
    "    profit = c()\n",
    "    for (i in 1:nfold) {\n",
    "            data.test  = data[fold[[i]],]\n",
    "            data.train = data[setdiff(1:nrow(data), fold[[i]]),]\n",
    "            model_train = lm(growth ~ ., data.train[,f]) \n",
    "            growth.predicted = predict(model_train, data.test)\n",
    "            error = data.test$growth - growth.predicted\n",
    "            rmse[i] = sqrt(mean(error^2))\n",
    "           \n",
    "            data.test = cbind(data.test,growth.predicted)\n",
    "            data.test = data.test[order(-data.test$growth.predicted),]\n",
    "            company.data.growth = data.test[1:12, \"growth\"]\n",
    "            profit[i] = sum((1 + company.data.growth)*allocation) - budget }\n",
    "\n",
    "    rmse.cv = mean(rmse)\n",
    "    profit.cv = mean(profit)\n",
    "    profit_rate.cv = profit.cv/budget\n",
    "    \n",
    "    tune = rbind(tune, data.frame(method=\"linear regression\", variables=vector2string(f),\n",
    "                                  rmse.cv, profit.cv, profit_rate.cv))\n",
    "}\n",
    "    \n",
    "best = tune[which.max(tune$profit.cv),]\n",
    "fmtx(best, \"best model\")\n",
    "\n",
    "fmtx(tune, \"search for best model\")"
   ]
  },
  {
   "cell_type": "markdown",
   "metadata": {},
   "source": [
    "<p style=\"text-align:left; font-size:10px;\">\n",
    "Copyright (c) Huntsinger Associates, LLC\n",
    "<span style=\"float:right;\">\n",
    "Document revised May 6, 2023\n",
    "</span>\n",
    "</p>"
   ]
  }
 ],
 "metadata": {
  "hide_code_all_hidden": false,
  "hide_input": false,
  "kernelspec": {
   "display_name": "R",
   "language": "R",
   "name": "ir"
  },
  "language_info": {
   "codemirror_mode": "r",
   "file_extension": ".r",
   "mimetype": "text/x-r-source",
   "name": "R",
   "pygments_lexer": "r",
   "version": "4.2.2"
  },
  "toc": {
   "base_numbering": 1,
   "nav_menu": {},
   "number_sections": true,
   "sideBar": true,
   "skip_h1_title": true,
   "title_cell": "Table of Contents",
   "title_sidebar": "Contents",
   "toc_cell": false,
   "toc_position": {
    "height": "calc(100% - 180px)",
    "left": "10px",
    "top": "150px",
    "width": "256.396px"
   },
   "toc_section_display": true,
   "toc_window_display": false
  }
 },
 "nbformat": 4,
 "nbformat_minor": 2
}
